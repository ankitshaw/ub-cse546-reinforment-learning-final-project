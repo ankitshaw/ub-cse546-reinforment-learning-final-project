{
 "cells": [
  {
   "cell_type": "code",
   "execution_count": 1,
   "metadata": {},
   "outputs": [],
   "source": [
    "import numpy as np\n",
    "import pandas as pd\n",
    "\n",
    "import time\n",
    "import gym\n",
    "\n",
    "import matplotlib.pyplot as plt\n",
    "from matplotlib.offsetbox import OffsetImage, AnnotationBbox\n",
    "from tqdm import tqdm\n",
    "import random\n",
    "\n",
    "import torch.nn.functional as F\n",
    "import torch \n",
    "from torch import nn\n",
    "import torch.optim as optim\n",
    "import torchvision.transforms as T\n",
    "from PIL import Image\n",
    "from collections import deque\n",
    "\n",
    "import time"
   ]
  },
  {
   "attachments": {},
   "cell_type": "markdown",
   "metadata": {},
   "source": [
    "Started Code from VIZDOOM Repository"
   ]
  },
  {
   "cell_type": "code",
   "execution_count": 2,
   "metadata": {},
   "outputs": [
    {
     "name": "stdout",
     "output_type": "stream",
     "text": [
      "[ERROR] Could not launch ViZDoom. If you see an error above about BiquadFilter and gain,\n",
      "        try setting game.add_game_args('+snd_efx 0'). If that fails, see\n",
      "        https://github.com/mwydmuch/ViZDoom/pull/486\n",
      "Episode #1\n"
     ]
    },
    {
     "ename": "ViZDoomIsNotRunningException",
     "evalue": "Controlled ViZDoom instance is not running or not ready.",
     "output_type": "error",
     "traceback": [
      "\u001b[0;31m---------------------------------------------------------------------------\u001b[0m",
      "\u001b[0;31mViZDoomIsNotRunningException\u001b[0m              Traceback (most recent call last)",
      "\u001b[0;32m/var/folders/fc/w445yn4551j6yj0hw77qk5cc0000gn/T/ipykernel_25574/232639222.py\u001b[0m in \u001b[0;36m<module>\u001b[0;34m\u001b[0m\n\u001b[1;32m     66\u001b[0m     \u001b[0;32mfor\u001b[0m \u001b[0mi\u001b[0m \u001b[0;32min\u001b[0m \u001b[0mrange\u001b[0m\u001b[0;34m(\u001b[0m\u001b[0mepisodes\u001b[0m\u001b[0;34m)\u001b[0m\u001b[0;34m:\u001b[0m\u001b[0;34m\u001b[0m\u001b[0m\n\u001b[1;32m     67\u001b[0m         \u001b[0mprint\u001b[0m\u001b[0;34m(\u001b[0m\u001b[0;34m\"Episode #\"\u001b[0m \u001b[0;34m+\u001b[0m \u001b[0mstr\u001b[0m\u001b[0;34m(\u001b[0m\u001b[0mi\u001b[0m \u001b[0;34m+\u001b[0m \u001b[0;36m1\u001b[0m\u001b[0;34m)\u001b[0m\u001b[0;34m)\u001b[0m\u001b[0;34m\u001b[0m\u001b[0m\n\u001b[0;32m---> 68\u001b[0;31m         \u001b[0mgame\u001b[0m\u001b[0;34m.\u001b[0m\u001b[0mnew_episode\u001b[0m\u001b[0;34m(\u001b[0m\u001b[0;34m)\u001b[0m\u001b[0;34m\u001b[0m\u001b[0m\n\u001b[0m\u001b[1;32m     69\u001b[0m         \u001b[0;32mwhile\u001b[0m \u001b[0;32mnot\u001b[0m \u001b[0mgame\u001b[0m\u001b[0;34m.\u001b[0m\u001b[0mis_episode_finished\u001b[0m\u001b[0;34m(\u001b[0m\u001b[0;34m)\u001b[0m\u001b[0;34m:\u001b[0m\u001b[0;34m\u001b[0m\u001b[0m\n\u001b[1;32m     70\u001b[0m \u001b[0;34m\u001b[0m\u001b[0m\n",
      "\u001b[0;31mViZDoomIsNotRunningException\u001b[0m: Controlled ViZDoom instance is not running or not ready."
     ]
    }
   ],
   "source": [
    "#!/usr/bin/env python3\n",
    "\n",
    "#####################################################################\n",
    "# This script presents how to read and use the sound buffer.\n",
    "# This script stores a \"basic_sounds.wav\" file of recorded audio.\n",
    "# Note: This requires scipy library\n",
    "#####################################################################\n",
    "\n",
    "import vizdoom as vzd\n",
    "\n",
    "import os\n",
    "from random import choice\n",
    "import numpy as np\n",
    "from scipy.io import wavfile\n",
    "from time import sleep\n",
    "\n",
    "\n",
    "if __name__ == \"__main__\":\n",
    "    game = vzd.DoomGame()\n",
    "\n",
    "    # Load config of the basic scenario\n",
    "    game.load_config(os.path.join(vzd.scenarios_path, \"simpler_basic.cfg\"))\n",
    "\n",
    "    # game.add_game_args('+snd_efx 0')\n",
    "\n",
    "    # Turns on the audio buffer. (turned off by default)\n",
    "    # If this is switched on, the audio will stop playing on device, even with game.set_sound_enabled(True)\n",
    "    # Setting game.set_sound_enabled(True) is not required for audio buffer to work.\n",
    "    AUDIO_BUFFER_ENABLED = True\n",
    "    game.set_audio_buffer_enabled(AUDIO_BUFFER_ENABLED)\n",
    "\n",
    "    # Set the sampling rate used in the observation window. Has to be one from:\n",
    "    # - vzd.SamplingRate.SR_44100 (default)\n",
    "    # - vzd.SamplingRate.SR_22050\n",
    "    # - vzd.SamplingRate.SR_11025\n",
    "    # Remember to also set audio saving code at the bottom to use same sampling rate!\n",
    "    game.set_audio_sampling_rate(vzd.SamplingRate.SR_22050)\n",
    "\n",
    "    # When using frameskip (`tics` parameter of the `make_actions` function),\n",
    "    # we would only get the latest \"frame\" of audio (1/35 seconds).\n",
    "    # With this function you can set how many last \"frames\" of audio will be stored in audio buffer.\n",
    "    # Note that if you use larger frameskip than size of audio buffer you will lost some information about the audio.\n",
    "    # If you use frameskip smaller than size of audio buffer, some audio information will overlap.\n",
    "    frameskip = 4\n",
    "    game.set_audio_buffer_size(frameskip)\n",
    "\n",
    "    # This could fix \"no audio in buffer\" bug on Ubuntu 20.04.\n",
    "    game.add_game_args(\"+snd_efx 0\")\n",
    "\n",
    "    # Initialize the game. Further configuration won't take any effect from now on.\n",
    "    try:\n",
    "        game.init()\n",
    "    except Exception as e:\n",
    "        print(\n",
    "            \"[ERROR] Could not launch ViZDoom. If you see an error above about BiquadFilter and gain,\\n\"\n",
    "            \"        try setting game.add_game_args('+snd_efx 0'). If that fails, see\\n\"\n",
    "            \"        https://github.com/mwydmuch/ViZDoom/pull/486\"\n",
    "        )\n",
    "        exit(1)\n",
    "\n",
    "    actions = [[True, False, False], [False, True, False], [False, False, True]]\n",
    "    sleep_time = 1.0 / vzd.DEFAULT_TICRATE  # = 0.028\n",
    "\n",
    "    episodes = 3\n",
    "    audio_slices = []\n",
    "    for i in range(episodes):\n",
    "        print(\"Episode #\" + str(i + 1))\n",
    "        game.new_episode()\n",
    "        while not game.is_episode_finished():\n",
    "\n",
    "            # Gets the state\n",
    "            state = game.get_state()\n",
    "\n",
    "            audio_buffer = state.audio_buffer\n",
    "            audio_slices.append(audio_buffer)\n",
    "\n",
    "            # Makes a random action and get remember reward.\n",
    "            r = game.make_action(choice(actions), frameskip)\n",
    "\n",
    "            if not AUDIO_BUFFER_ENABLED:\n",
    "                sleep(sleep_time * frameskip)            \n",
    "    game.close()\n",
    "\n",
    "    if AUDIO_BUFFER_ENABLED:\n",
    "        # Check that we have audio (having no audio is a common bug, see\n",
    "        # https://github.com/mwydmuch/ViZDoom/pull/486\n",
    "        audio_data = np.concatenate(audio_slices, axis=0)\n",
    "        if audio_data.max() == 0:\n",
    "            print(\n",
    "                \"[WARNING] Audio buffers were full of silence. This is a common bug on e.g. Ubuntu 20.04\\n\"\n",
    "                \"          See https://github.com/mwydmuch/ViZDoom/pull/486\\n\"\n",
    "                \"          Two possible fixes:\\n\"\n",
    "                \"            1) Try setting game.add_game_args('+snd_efx 0'). This my disable some audio effects\\n\"\n",
    "                \"            2) Try installing a newer version of OpenAL Soft library, see https://github.com/mwydmuch/ViZDoom/pull/486#issuecomment-889389185\"\n",
    "            )\n",
    "        # Save audio file\n",
    "        wavfile.write(\"basic_sounds.wav\", 22050, np.concatenate(audio_slices, axis=0))\n"
   ]
  }
 ],
 "metadata": {
  "kernelspec": {
   "display_name": "Python 3",
   "language": "python",
   "name": "python3"
  },
  "language_info": {
   "codemirror_mode": {
    "name": "ipython",
    "version": 3
   },
   "file_extension": ".py",
   "mimetype": "text/x-python",
   "name": "python",
   "nbconvert_exporter": "python",
   "pygments_lexer": "ipython3",
   "version": "3.7.0"
  },
  "orig_nbformat": 4,
  "vscode": {
   "interpreter": {
    "hash": "aee8b7b246df8f9039afb4144a1f6fd8d2ca17a180786b69acc140d282b71a49"
   }
  }
 },
 "nbformat": 4,
 "nbformat_minor": 2
}
