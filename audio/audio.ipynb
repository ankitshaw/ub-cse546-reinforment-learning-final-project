{
 "cells": [
  {
   "cell_type": "code",
   "execution_count": 8,
   "metadata": {},
   "outputs": [],
   "source": [
    "row,col = map(int,input().split(\" \"))"
   ]
  },
  {
   "cell_type": "code",
   "execution_count": 12,
   "metadata": {},
   "outputs": [],
   "source": [
    "arr = []\n",
    "for r in range(row):\n",
    "    no = input()\n",
    "    arr.append([int(c) for c in no])"
   ]
  },
  {
   "cell_type": "code",
   "execution_count": 66,
   "metadata": {},
   "outputs": [],
   "source": [
    "row,col = 5,4\n",
    "arr = [[2,1,2,0],[1,2,0,3],[3,1,1,3],[1,1,2,0],[1,1,1,0]]"
   ]
  },
  {
   "cell_type": "code",
   "execution_count": 13,
   "metadata": {},
   "outputs": [],
   "source": [
    "dir= [(0,-1),(-1,0),(0,1),(1,0)]\n",
    "visited = set()\n",
    "minm = float('inf') "
   ]
  },
  {
   "cell_type": "code",
   "execution_count": 14,
   "metadata": {},
   "outputs": [
    {
     "name": "stdout",
     "output_type": "stream",
     "text": [
      "2\n"
     ]
    }
   ],
   "source": [
    "def dfs(arr, r, c, m, minm):\n",
    "    if r>row-1 or c>col-1 or r<0 or c<0:\n",
    "        return float('inf')\n",
    "    if r==row-1 and c==col-1:\n",
    "        minm = min(minm,m)\n",
    "    \n",
    "    if (r,c) in visited:\n",
    "        return float('inf')\n",
    "    visited.add((r,c))\n",
    "    m +=1\n",
    "    for d in dir:\n",
    "        minm = min(minm,dfs(arr, r+(d[0]*arr[r][c]), c+(d[1]*arr[r][c]),m,minm))\n",
    "\n",
    "    return minm\n",
    "\n",
    "minm=dfs(arr,0,0,0,minm)\n",
    "print(-1 if minm == float('inf') else minm)"
   ]
  },
  {
   "cell_type": "code",
   "execution_count": 52,
   "metadata": {},
   "outputs": [
    {
     "name": "stdout",
     "output_type": "stream",
     "text": [
      "6\n"
     ]
    }
   ],
   "source": [
    "\n",
    "row,col = map(int,input().split(\" \"))\n",
    "arr = []\n",
    "arr = []\n",
    "for r in range(row):\n",
    "    no = input()\n",
    "    arr.append([int(c) for c in no])\n",
    "    \n",
    "dir= [(0,-1),(-1,0),(0,1),(1,0)]\n",
    "visited = set()\n",
    "minm = float('inf') \n",
    "maxm = float('inf')\n",
    "\n",
    "queue = [[(0,0)]]\n",
    "visited.add((0,0))\n",
    "cost=0\n",
    "while len(queue) > 0:\n",
    "    next_list = queue.pop()\n",
    "    if not next_list:\n",
    "        break\n",
    "    queue.append([])\n",
    "    for r,c in next_list:\n",
    "        if r>row-1 or c>col-1 or r<0 or c<0:\n",
    "            continue\n",
    "        \n",
    "        if r==row-1 and c==col-1:\n",
    "            minm = min(minm,cost)\n",
    "            continue\n",
    "        \n",
    "        for d in dir:\n",
    "            if (r+(d[0]*arr[r][c]), c+(d[1]*arr[r][c])) in visited:\n",
    "                continue\n",
    "            visited.add((r+(d[0]*arr[r][c]), c+(d[1]*arr[r][c])))\n",
    "            queue[-1].append((r+(d[0]*arr[r][c]), c+(d[1]*arr[r][c])))\n",
    "    \n",
    "    cost+=1\n",
    "\n",
    "print(-1 if minm == float('inf') else minm)"
   ]
  }
 ],
 "metadata": {
  "kernelspec": {
   "display_name": "Python 3.10.4 64-bit",
   "language": "python",
   "name": "python3"
  },
  "language_info": {
   "codemirror_mode": {
    "name": "ipython",
    "version": 3
   },
   "file_extension": ".py",
   "mimetype": "text/x-python",
   "name": "python",
   "nbconvert_exporter": "python",
   "pygments_lexer": "ipython3",
   "version": "3.10.4"
  },
  "orig_nbformat": 4,
  "vscode": {
   "interpreter": {
    "hash": "3ad933181bd8a04b432d3370b9dc3b0662ad032c4dfaa4e4f1596c548f763858"
   }
  }
 },
 "nbformat": 4,
 "nbformat_minor": 2
}
